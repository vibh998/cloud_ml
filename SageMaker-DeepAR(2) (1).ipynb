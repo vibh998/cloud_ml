{
 "cells": [
  {
   "cell_type": "markdown",
   "id": "888e21b0",
   "metadata": {},
   "source": [
    "# Predicting Bitcoin Closing Price Using Amazon SageMaker - DeepAR"
   ]
  },
  {
   "cell_type": "markdown",
   "id": "3dabd7e9",
   "metadata": {},
   "source": [
    "Let's start by importing necessary libraries for this notebook."
   ]
  },
  {
   "cell_type": "code",
   "execution_count": 138,
   "id": "7544dc54",
   "metadata": {},
   "outputs": [],
   "source": [
    "import pandas as pd\n",
    "import matplotlib.pyplot as plt\n",
    "import json\n",
    "import os\n",
    "import boto3\n",
    "import numpy as np\n",
    "from datetime import datetime\n",
    "import datetime\n",
    "from io import StringIO\n",
    "from boto3 import Session"
   ]
  },
  {
   "cell_type": "code",
   "execution_count": 139,
   "id": "84c2c0db",
   "metadata": {},
   "outputs": [],
   "source": [
    "import sagemaker\n",
    "from boto3 import Session\n",
    "import s3fs"
   ]
  },
  {
   "cell_type": "markdown",
   "id": "f0eb60d5",
   "metadata": {},
   "source": [
    "# Access Raw Bitcoin Data in S3"
   ]
  },
  {
   "cell_type": "markdown",
   "id": "46c180ff",
   "metadata": {},
   "source": [
    "First connect to s3_client to access the '1m.csv' file."
   ]
  },
  {
   "cell_type": "code",
   "execution_count": 3,
   "id": "859d4826",
   "metadata": {},
   "outputs": [],
   "source": [
    "s3_client = boto3.client('s3')\n",
    "input_bucket = \"sagemaker-other-vs\"\n",
    "input_file_name = \"3k_vs.csv\"\n",
    "input_obj = s3_client.get_object(Bucket=input_bucket, Key=input_file_name)"
   ]
  },
  {
   "cell_type": "code",
   "execution_count": 4,
   "id": "4610ca47",
   "metadata": {},
   "outputs": [],
   "source": [
    "body = input_obj['Body']"
   ]
  },
  {
   "cell_type": "code",
   "execution_count": 5,
   "id": "2c39a59c",
   "metadata": {},
   "outputs": [],
   "source": [
    "csv_string = body.read().decode('utf-8')"
   ]
  },
  {
   "cell_type": "code",
   "execution_count": 6,
   "id": "dc862d49",
   "metadata": {},
   "outputs": [
    {
     "name": "stderr",
     "output_type": "stream",
     "text": [
      "/home/ec2-user/anaconda3/envs/python3/lib/python3.8/site-packages/IPython/core/interactiveshell.py:3524: DtypeWarning: Columns (0) have mixed types.Specify dtype option on import or set low_memory=False.\n",
      "  exec(code_obj, self.user_global_ns, self.user_ns)\n"
     ]
    }
   ],
   "source": [
    "df = pd.read_csv(StringIO(csv_string))"
   ]
  },
  {
   "cell_type": "code",
   "execution_count": 7,
   "id": "ef92709d",
   "metadata": {},
   "outputs": [
    {
     "data": {
      "text/html": [
       "<div>\n",
       "<style scoped>\n",
       "    .dataframe tbody tr th:only-of-type {\n",
       "        vertical-align: middle;\n",
       "    }\n",
       "\n",
       "    .dataframe tbody tr th {\n",
       "        vertical-align: top;\n",
       "    }\n",
       "\n",
       "    .dataframe thead th {\n",
       "        text-align: right;\n",
       "    }\n",
       "</style>\n",
       "<table border=\"1\" class=\"dataframe\">\n",
       "  <thead>\n",
       "    <tr style=\"text-align: right;\">\n",
       "      <th></th>\n",
       "      <th>datetime</th>\n",
       "      <th>op</th>\n",
       "      <th>hi</th>\n",
       "      <th>lo</th>\n",
       "      <th>cl</th>\n",
       "      <th>vol</th>\n",
       "    </tr>\n",
       "  </thead>\n",
       "  <tbody>\n",
       "    <tr>\n",
       "      <th>0</th>\n",
       "      <td>1/1/2021 0:00</td>\n",
       "      <td>28956.0</td>\n",
       "      <td>29007.0</td>\n",
       "      <td>28947.0</td>\n",
       "      <td>29000.5</td>\n",
       "      <td>3000320.0</td>\n",
       "    </tr>\n",
       "    <tr>\n",
       "      <th>1</th>\n",
       "      <td>1/1/2021 0:01</td>\n",
       "      <td>29000.5</td>\n",
       "      <td>29056.0</td>\n",
       "      <td>29000.5</td>\n",
       "      <td>29054.5</td>\n",
       "      <td>1249480.0</td>\n",
       "    </tr>\n",
       "    <tr>\n",
       "      <th>2</th>\n",
       "      <td>1/1/2021 0:02</td>\n",
       "      <td>29054.0</td>\n",
       "      <td>29054.5</td>\n",
       "      <td>29008.0</td>\n",
       "      <td>29027.0</td>\n",
       "      <td>2761740.0</td>\n",
       "    </tr>\n",
       "    <tr>\n",
       "      <th>3</th>\n",
       "      <td>1/1/2021 0:03</td>\n",
       "      <td>29027.0</td>\n",
       "      <td>29035.5</td>\n",
       "      <td>29010.5</td>\n",
       "      <td>29018.5</td>\n",
       "      <td>291673.0</td>\n",
       "    </tr>\n",
       "    <tr>\n",
       "      <th>4</th>\n",
       "      <td>1/1/2021 0:04</td>\n",
       "      <td>29018.5</td>\n",
       "      <td>29029.0</td>\n",
       "      <td>29010.0</td>\n",
       "      <td>29010.5</td>\n",
       "      <td>650341.0</td>\n",
       "    </tr>\n",
       "  </tbody>\n",
       "</table>\n",
       "</div>"
      ],
      "text/plain": [
       "        datetime       op       hi       lo       cl        vol\n",
       "0  1/1/2021 0:00  28956.0  29007.0  28947.0  29000.5  3000320.0\n",
       "1  1/1/2021 0:01  29000.5  29056.0  29000.5  29054.5  1249480.0\n",
       "2  1/1/2021 0:02  29054.0  29054.5  29008.0  29027.0  2761740.0\n",
       "3  1/1/2021 0:03  29027.0  29035.5  29010.5  29018.5   291673.0\n",
       "4  1/1/2021 0:04  29018.5  29029.0  29010.0  29010.5   650341.0"
      ]
     },
     "execution_count": 7,
     "metadata": {},
     "output_type": "execute_result"
    }
   ],
   "source": [
    "df.head()"
   ]
  },
  {
   "cell_type": "markdown",
   "id": "9912689d",
   "metadata": {},
   "source": [
    "# Data Preprocessing"
   ]
  },
  {
   "cell_type": "markdown",
   "id": "d33b6d02",
   "metadata": {},
   "source": [
    "Important Notes About SageMaker:\n",
    "\n",
    "- We need to define one training and one test dataset\n",
    "- We want to shift the training set backward by the predition_length  \n",
    "- Amazon SageMaker DeepAR requires the trianing and test data to be in a JSON file with the format {'start':timestamp_0, 'target': [..., ...]}\n",
    "- Convert 'datetime' column to pd.datetime object and set as the index"
   ]
  },
  {
   "cell_type": "code",
   "execution_count": 8,
   "id": "4011a364",
   "metadata": {},
   "outputs": [],
   "source": [
    "df['datetime'] =  pd.to_datetime(df['datetime'], format='%m/%d/%Y %H:%M')"
   ]
  },
  {
   "cell_type": "code",
   "execution_count": 9,
   "id": "d521d9b9",
   "metadata": {},
   "outputs": [
    {
     "data": {
      "text/plain": [
       "0        2021-01-01 00:00:00\n",
       "1        2021-01-01 00:01:00\n",
       "2        2021-01-01 00:02:00\n",
       "3        2021-01-01 00:03:00\n",
       "4        2021-01-01 00:04:00\n",
       "                 ...        \n",
       "914336                   NaT\n",
       "914337                   NaT\n",
       "914338                   NaT\n",
       "914339                   NaT\n",
       "914340                   NaT\n",
       "Name: datetime, Length: 914341, dtype: datetime64[ns]"
      ]
     },
     "execution_count": 9,
     "metadata": {},
     "output_type": "execute_result"
    }
   ],
   "source": [
    "df['datetime']"
   ]
  },
  {
   "cell_type": "code",
   "execution_count": 10,
   "id": "1112b218",
   "metadata": {},
   "outputs": [],
   "source": [
    " df = df[~pd.isnull(df['datetime'])]"
   ]
  },
  {
   "cell_type": "code",
   "execution_count": 11,
   "id": "e1df6bdf",
   "metadata": {},
   "outputs": [],
   "source": [
    "df = df.set_index(['datetime'])"
   ]
  },
  {
   "cell_type": "code",
   "execution_count": 12,
   "id": "4cbd1bd2",
   "metadata": {},
   "outputs": [
    {
     "data": {
      "text/html": [
       "<div>\n",
       "<style scoped>\n",
       "    .dataframe tbody tr th:only-of-type {\n",
       "        vertical-align: middle;\n",
       "    }\n",
       "\n",
       "    .dataframe tbody tr th {\n",
       "        vertical-align: top;\n",
       "    }\n",
       "\n",
       "    .dataframe thead th {\n",
       "        text-align: right;\n",
       "    }\n",
       "</style>\n",
       "<table border=\"1\" class=\"dataframe\">\n",
       "  <thead>\n",
       "    <tr style=\"text-align: right;\">\n",
       "      <th></th>\n",
       "      <th>op</th>\n",
       "      <th>hi</th>\n",
       "      <th>lo</th>\n",
       "      <th>cl</th>\n",
       "      <th>vol</th>\n",
       "    </tr>\n",
       "    <tr>\n",
       "      <th>datetime</th>\n",
       "      <th></th>\n",
       "      <th></th>\n",
       "      <th></th>\n",
       "      <th></th>\n",
       "      <th></th>\n",
       "    </tr>\n",
       "  </thead>\n",
       "  <tbody>\n",
       "    <tr>\n",
       "      <th>2021-01-01 00:00:00</th>\n",
       "      <td>28956.0</td>\n",
       "      <td>29007.0</td>\n",
       "      <td>28947.0</td>\n",
       "      <td>29000.5</td>\n",
       "      <td>3000320.0</td>\n",
       "    </tr>\n",
       "    <tr>\n",
       "      <th>2021-01-01 00:01:00</th>\n",
       "      <td>29000.5</td>\n",
       "      <td>29056.0</td>\n",
       "      <td>29000.5</td>\n",
       "      <td>29054.5</td>\n",
       "      <td>1249480.0</td>\n",
       "    </tr>\n",
       "    <tr>\n",
       "      <th>2021-01-01 00:02:00</th>\n",
       "      <td>29054.0</td>\n",
       "      <td>29054.5</td>\n",
       "      <td>29008.0</td>\n",
       "      <td>29027.0</td>\n",
       "      <td>2761740.0</td>\n",
       "    </tr>\n",
       "    <tr>\n",
       "      <th>2021-01-01 00:03:00</th>\n",
       "      <td>29027.0</td>\n",
       "      <td>29035.5</td>\n",
       "      <td>29010.5</td>\n",
       "      <td>29018.5</td>\n",
       "      <td>291673.0</td>\n",
       "    </tr>\n",
       "    <tr>\n",
       "      <th>2021-01-01 00:04:00</th>\n",
       "      <td>29018.5</td>\n",
       "      <td>29029.0</td>\n",
       "      <td>29010.0</td>\n",
       "      <td>29010.5</td>\n",
       "      <td>650341.0</td>\n",
       "    </tr>\n",
       "  </tbody>\n",
       "</table>\n",
       "</div>"
      ],
      "text/plain": [
       "                          op       hi       lo       cl        vol\n",
       "datetime                                                          \n",
       "2021-01-01 00:00:00  28956.0  29007.0  28947.0  29000.5  3000320.0\n",
       "2021-01-01 00:01:00  29000.5  29056.0  29000.5  29054.5  1249480.0\n",
       "2021-01-01 00:02:00  29054.0  29054.5  29008.0  29027.0  2761740.0\n",
       "2021-01-01 00:03:00  29027.0  29035.5  29010.5  29018.5   291673.0\n",
       "2021-01-01 00:04:00  29018.5  29029.0  29010.0  29010.5   650341.0"
      ]
     },
     "execution_count": 12,
     "metadata": {},
     "output_type": "execute_result"
    }
   ],
   "source": [
    "df.head()"
   ]
  },
  {
   "cell_type": "code",
   "execution_count": 13,
   "id": "6d3412f0",
   "metadata": {},
   "outputs": [],
   "source": [
    "df = df.drop(columns = ['op', 'hi', 'lo', 'vol'])"
   ]
  },
  {
   "cell_type": "code",
   "execution_count": 14,
   "id": "028db590",
   "metadata": {},
   "outputs": [
    {
     "data": {
      "text/html": [
       "<div>\n",
       "<style scoped>\n",
       "    .dataframe tbody tr th:only-of-type {\n",
       "        vertical-align: middle;\n",
       "    }\n",
       "\n",
       "    .dataframe tbody tr th {\n",
       "        vertical-align: top;\n",
       "    }\n",
       "\n",
       "    .dataframe thead th {\n",
       "        text-align: right;\n",
       "    }\n",
       "</style>\n",
       "<table border=\"1\" class=\"dataframe\">\n",
       "  <thead>\n",
       "    <tr style=\"text-align: right;\">\n",
       "      <th></th>\n",
       "      <th>cl</th>\n",
       "    </tr>\n",
       "    <tr>\n",
       "      <th>datetime</th>\n",
       "      <th></th>\n",
       "    </tr>\n",
       "  </thead>\n",
       "  <tbody>\n",
       "    <tr>\n",
       "      <th>2021-01-01 00:00:00</th>\n",
       "      <td>29000.5</td>\n",
       "    </tr>\n",
       "    <tr>\n",
       "      <th>2021-01-01 00:01:00</th>\n",
       "      <td>29054.5</td>\n",
       "    </tr>\n",
       "    <tr>\n",
       "      <th>2021-01-01 00:02:00</th>\n",
       "      <td>29027.0</td>\n",
       "    </tr>\n",
       "    <tr>\n",
       "      <th>2021-01-01 00:03:00</th>\n",
       "      <td>29018.5</td>\n",
       "    </tr>\n",
       "    <tr>\n",
       "      <th>2021-01-01 00:04:00</th>\n",
       "      <td>29010.5</td>\n",
       "    </tr>\n",
       "  </tbody>\n",
       "</table>\n",
       "</div>"
      ],
      "text/plain": [
       "                          cl\n",
       "datetime                    \n",
       "2021-01-01 00:00:00  29000.5\n",
       "2021-01-01 00:01:00  29054.5\n",
       "2021-01-01 00:02:00  29027.0\n",
       "2021-01-01 00:03:00  29018.5\n",
       "2021-01-01 00:04:00  29010.5"
      ]
     },
     "execution_count": 14,
     "metadata": {},
     "output_type": "execute_result"
    }
   ],
   "source": [
    "df.head()"
   ]
  },
  {
   "cell_type": "code",
   "execution_count": 15,
   "id": "b080f47d",
   "metadata": {},
   "outputs": [
    {
     "data": {
      "text/plain": [
       "(3461, 1)"
      ]
     },
     "execution_count": 15,
     "metadata": {},
     "output_type": "execute_result"
    }
   ],
   "source": [
    "df_test = df.copy()\n",
    "df_test.shape"
   ]
  },
  {
   "cell_type": "markdown",
   "id": "bb2c7582",
   "metadata": {},
   "source": [
    "Set the prediction length for the forecast"
   ]
  },
  {
   "cell_type": "code",
   "execution_count": 16,
   "id": "bd94e348",
   "metadata": {},
   "outputs": [],
   "source": [
    "prediction_length = 30 # minutes"
   ]
  },
  {
   "cell_type": "markdown",
   "id": "55bd56e8",
   "metadata": {},
   "source": [
    "Shift the training data by the prediction length"
   ]
  },
  {
   "cell_type": "code",
   "execution_count": 17,
   "id": "cee9021f",
   "metadata": {},
   "outputs": [],
   "source": [
    "df_train = df.iloc[0:-prediction_length,:]"
   ]
  },
  {
   "cell_type": "code",
   "execution_count": 18,
   "id": "d21f9835",
   "metadata": {},
   "outputs": [
    {
     "data": {
      "text/plain": [
       "(3431, 1)"
      ]
     },
     "execution_count": 18,
     "metadata": {},
     "output_type": "execute_result"
    }
   ],
   "source": [
    "df_train.shape"
   ]
  },
  {
   "cell_type": "code",
   "execution_count": 19,
   "id": "b59f7baf",
   "metadata": {},
   "outputs": [],
   "source": [
    "df_test = df.iloc[3431:]"
   ]
  },
  {
   "cell_type": "markdown",
   "id": "a72dd5d9",
   "metadata": {},
   "source": [
    "Show maximum and minimum time index for training"
   ]
  },
  {
   "cell_type": "code",
   "execution_count": 20,
   "id": "257d10ec",
   "metadata": {},
   "outputs": [
    {
     "data": {
      "text/plain": [
       "(Timestamp('2021-01-01 00:00:00'), Timestamp('2021-01-03 09:10:00'))"
      ]
     },
     "execution_count": 20,
     "metadata": {},
     "output_type": "execute_result"
    }
   ],
   "source": [
    "df_train.index.min(), df_train.index.max()"
   ]
  },
  {
   "cell_type": "markdown",
   "id": "7f06b6af",
   "metadata": {},
   "source": [
    "Show maximum and minimum time index for test"
   ]
  },
  {
   "cell_type": "code",
   "execution_count": 21,
   "id": "8b53a2d3",
   "metadata": {},
   "outputs": [
    {
     "data": {
      "text/plain": [
       "(Timestamp('2021-01-03 09:11:00'), Timestamp('2021-01-03 09:40:00'))"
      ]
     },
     "execution_count": 21,
     "metadata": {},
     "output_type": "execute_result"
    }
   ],
   "source": [
    "df_test.index.min(), df_test.index.max()"
   ]
  },
  {
   "cell_type": "markdown",
   "id": "2d0b52f4",
   "metadata": {},
   "source": [
    "Let's find the first timestamp for training and test datasets"
   ]
  },
  {
   "cell_type": "code",
   "execution_count": 22,
   "id": "12c63919",
   "metadata": {},
   "outputs": [
    {
     "data": {
      "text/plain": [
       "Timestamp('2021-01-01 00:00:00')"
      ]
     },
     "execution_count": 22,
     "metadata": {},
     "output_type": "execute_result"
    }
   ],
   "source": [
    "start_timestamp = df_train.index[0]\n",
    "start_timestamp"
   ]
  },
  {
   "cell_type": "markdown",
   "id": "7c913f13",
   "metadata": {},
   "source": [
    "Training and test data have different end timestamps"
   ]
  },
  {
   "cell_type": "code",
   "execution_count": 23,
   "id": "58cc6692",
   "metadata": {},
   "outputs": [
    {
     "data": {
      "text/plain": [
       "Timestamp('2021-01-03 09:10:00')"
      ]
     },
     "execution_count": 23,
     "metadata": {},
     "output_type": "execute_result"
    }
   ],
   "source": [
    "train_end_timestamp = df_train.index[-1]\n",
    "train_end_timestamp"
   ]
  },
  {
   "cell_type": "code",
   "execution_count": 24,
   "id": "a00f474b",
   "metadata": {},
   "outputs": [
    {
     "data": {
      "text/plain": [
       "Timestamp('2021-01-03 09:40:00')"
      ]
     },
     "execution_count": 24,
     "metadata": {},
     "output_type": "execute_result"
    }
   ],
   "source": [
    "test_end_timestamp = df_test.index[-1]\n",
    "test_end_timestamp"
   ]
  },
  {
   "cell_type": "markdown",
   "id": "899ed9aa",
   "metadata": {},
   "source": [
    "Use timestamp ranges for training and testing to convert from dataframe to list (series) datatype"
   ]
  },
  {
   "cell_type": "code",
   "execution_count": 25,
   "id": "42a3aac9",
   "metadata": {},
   "outputs": [],
   "source": [
    "range_training = (start_timestamp, train_end_timestamp)\n",
    "range_test = (start_timestamp, test_end_timestamp)"
   ]
  },
  {
   "cell_type": "code",
   "execution_count": 26,
   "id": "b40bb49d",
   "metadata": {},
   "outputs": [
    {
     "data": {
      "text/plain": [
       "(Timestamp('2021-01-01 00:00:00'), Timestamp('2021-01-03 09:10:00'))"
      ]
     },
     "execution_count": 26,
     "metadata": {},
     "output_type": "execute_result"
    }
   ],
   "source": [
    "range_training"
   ]
  },
  {
   "cell_type": "code",
   "execution_count": 27,
   "id": "d9ca7c75",
   "metadata": {},
   "outputs": [
    {
     "data": {
      "text/plain": [
       "(Timestamp('2021-01-01 00:00:00'), Timestamp('2021-01-03 09:40:00'))"
      ]
     },
     "execution_count": 27,
     "metadata": {},
     "output_type": "execute_result"
    }
   ],
   "source": [
    "range_test"
   ]
  },
  {
   "cell_type": "code",
   "execution_count": 113,
   "id": "e8b1b67f",
   "metadata": {},
   "outputs": [],
   "source": [
    "#  Convert dataframe to a list dtype\n",
    "time_series_training = []\n",
    "time_series_test = []\n",
    "\n",
    "time_series_training.append(df_train[range_training[0]:range_training[1]]['cl'])\n",
    "time_series_test.append(df_test[range_test[0]:range_test[1]]['cl'])"
   ]
  },
  {
   "cell_type": "code",
   "execution_count": 114,
   "id": "6fc09173",
   "metadata": {},
   "outputs": [
    {
     "data": {
      "text/plain": [
       "(list, list)"
      ]
     },
     "execution_count": 114,
     "metadata": {},
     "output_type": "execute_result"
    }
   ],
   "source": [
    "type(time_series_training), type(time_series_test)"
   ]
  },
  {
   "cell_type": "code",
   "execution_count": 115,
   "id": "eb67dd11",
   "metadata": {},
   "outputs": [
    {
     "data": {
      "text/plain": [
       "(3431, 30)"
      ]
     },
     "execution_count": 115,
     "metadata": {},
     "output_type": "execute_result"
    }
   ],
   "source": [
    "len(time_series_training[0]), len(time_series_test[0])"
   ]
  },
  {
   "cell_type": "markdown",
   "id": "38a8e2e5",
   "metadata": {},
   "source": [
    "Let's look at the training and test datasets using matplotlib.pyplot"
   ]
  },
  {
   "cell_type": "code",
   "execution_count": 116,
   "id": "4d2cfebb",
   "metadata": {},
   "outputs": [
    {
     "data": {
      "image/png": "[encoded data removed]",
      "text/plain": [
       "<Figure size 720x720 with 1 Axes>"
      ]
     },
     "metadata": {
      "needs_background": "light"
     },
     "output_type": "display_data"
    }
   ],
   "source": [
    "# plot training and test datasets\n",
    "plt.figure(figsize=(10,10))\n",
    "time_series_test[0].plot(label = 'Test')\n",
    "time_series_training[0].plot(label = 'Training')\n",
    "plt.legend()\n",
    "plt.show()"
   ]
  },
  {
   "cell_type": "markdown",
   "id": "2a52ae0d",
   "metadata": {},
   "source": [
    "## Convert to JSON and Store in S3"
   ]
  },
  {
   "cell_type": "code",
   "execution_count": 32,
   "id": "e5115454",
   "metadata": {},
   "outputs": [],
   "source": [
    "# Replace all infinite values with \"NaN\"\n",
    "def encode_target(ts):\n",
    "    return [x if np.isfinite(x) else \"NaN\" for x in ts]"
   ]
  },
  {
   "cell_type": "code",
   "execution_count": 33,
   "id": "90e6fb9d",
   "metadata": {},
   "outputs": [
    {
     "data": {
      "text/plain": [
       "[29000.5, 29054.5, 29027.0, 29018.5, 29010.5]"
      ]
     },
     "execution_count": 33,
     "metadata": {},
     "output_type": "execute_result"
    }
   ],
   "source": [
    "encode_target(time_series_training[0][0:5])"
   ]
  },
  {
   "cell_type": "code",
   "execution_count": 34,
   "id": "ffa31a39",
   "metadata": {},
   "outputs": [],
   "source": [
    "# Amazon DeepAR requires the training data to be in format {'start':timestamp_0, 'target': [..., ...]}\n",
    "def series_to_obj(ts):\n",
    "    obj = {\"start\": str(ts.index[0]), \"target\": encode_target(ts)}\n",
    "    return obj"
   ]
  },
  {
   "cell_type": "code",
   "execution_count": 35,
   "id": "33eebbd4",
   "metadata": {},
   "outputs": [
    {
     "data": {
      "text/plain": [
       "{'start': '2021-01-01 00:00:00',\n",
       " 'target': [29000.5, 29054.5, 29027.0, 29018.5, 29010.5]}"
      ]
     },
     "execution_count": 35,
     "metadata": {},
     "output_type": "execute_result"
    }
   ],
   "source": [
    "series_to_obj(time_series_training[0][0:5])"
   ]
  },
  {
   "cell_type": "code",
   "execution_count": 36,
   "id": "f5e1aeda",
   "metadata": {},
   "outputs": [],
   "source": [
    "def series_to_jsonline(ts):\n",
    "    return json.dumps(series_to_obj(ts))"
   ]
  },
  {
   "cell_type": "code",
   "execution_count": 37,
   "id": "7e3a68e9",
   "metadata": {},
   "outputs": [
    {
     "data": {
      "text/plain": [
       "'{\"start\": \"2021-01-01 00:00:00\", \"target\": [29000.5, 29054.5, 29027.0, 29018.5, 29010.5]}'"
      ]
     },
     "execution_count": 37,
     "metadata": {},
     "output_type": "execute_result"
    }
   ],
   "source": [
    "series_to_jsonline(time_series_training[0][0:5])"
   ]
  },
  {
   "cell_type": "markdown",
   "id": "2473aff5",
   "metadata": {},
   "source": [
    "Set up SageMaker configuration and define S3 bucket to store training and test data"
   ]
  },
  {
   "cell_type": "code",
   "execution_count": 38,
   "id": "bb093326",
   "metadata": {},
   "outputs": [],
   "source": [
    "session = sagemaker.Session()\n",
    "bucket = session.default_bucket()\n",
    "prefix = \"sagemaker/DEMO-deepar-bitcoin\" # change to your desired S3 prefix\n",
    "region = session.boto_region_name\n",
    "\n",
    "role = sagemaker.get_execution_role()"
   ]
  },
  {
   "cell_type": "code",
   "execution_count": 39,
   "id": "79994db6",
   "metadata": {},
   "outputs": [
    {
     "name": "stdout",
     "output_type": "stream",
     "text": [
      "move: ./train.json to s3://sagemaker-ap-northeast-1-715346929360/sagemaker/DEMO-deepar-bitcoin/train/train.json\n",
      "move: ./test.json to s3://sagemaker-ap-northeast-1-715346929360/sagemaker/DEMO-deepar-bitcoin/test/test.json\n"
     ]
    }
   ],
   "source": [
    "s3_output_path = \"{}/output\".format(prefix)\n",
    "train_data_path = \"s3://{}/{}/train/train.json\".format(bucket, prefix)\n",
    "test_data_path = \"s3://{}/{}/test/test.json\".format(bucket, prefix)\n",
    "\n",
    "encoding = 'utf-8'\n",
    "file_json_training = 'bitcoin_training_data.json'\n",
    "file_json_test = 'bitcoin_test_data.json'\n",
    "\n",
    "with open('train.json', 'wb') as fp:\n",
    "    for ts in time_series_training:\n",
    "        fp.write(series_to_jsonline(ts).encode(encoding))\n",
    "        fp.write('\\n'.encode(encoding))\n",
    "        \n",
    "# terminal command to move file to S3\n",
    "! aws s3 mv train.json $train_data_path\n",
    "        \n",
    "with open('test.json', 'wb') as fp:\n",
    "    for ts in time_series_test:\n",
    "        fp.write(series_to_jsonline(ts).encode(encoding))\n",
    "        fp.write('\\n'.encode(encoding))\n",
    "        \n",
    "# terminal command to move file to S3 \n",
    "! aws s3 mv test.json $test_data_path"
   ]
  },
  {
   "cell_type": "markdown",
   "id": "292b3328",
   "metadata": {},
   "source": [
    "Let's look at the role and S3 paths"
   ]
  },
  {
   "cell_type": "code",
   "execution_count": 40,
   "id": "ead4912d",
   "metadata": {},
   "outputs": [
    {
     "name": "stdout",
     "output_type": "stream",
     "text": [
      "Role:  arn:aws:iam::715346929360:role/service-role/AmazonSageMaker-ExecutionRole-20221104T110178\n",
      "Region:  ap-northeast-1\n",
      "Location of training data:  s3://sagemaker-ap-northeast-1-715346929360/sagemaker/DEMO-deepar-bitcoin/train/train.json\n",
      "Location of training data:  s3://sagemaker-ap-northeast-1-715346929360/sagemaker/DEMO-deepar-bitcoin/test/test.json\n",
      "Location of training data:  sagemaker/DEMO-deepar-bitcoin/output\n"
     ]
    }
   ],
   "source": [
    "print('Role: ', role)\n",
    "print('Region: ', region)\n",
    "print('Location of training data: ', train_data_path)\n",
    "print('Location of training data: ', test_data_path)\n",
    "print('Location of training data: ', s3_output_path)"
   ]
  },
  {
   "cell_type": "markdown",
   "id": "8986d97e",
   "metadata": {},
   "source": [
    "## Training the DeepAR Model"
   ]
  },
  {
   "cell_type": "code",
   "execution_count": 49,
   "id": "4aee6377",
   "metadata": {},
   "outputs": [
    {
     "name": "stderr",
     "output_type": "stream",
     "text": [
      "No finished training job found associated with this estimator. Please make sure this estimator is only used for building workflow config\n",
      "No finished training job found associated with this estimator. Please make sure this estimator is only used for building workflow config\n"
     ]
    },
    {
     "name": "stdout",
     "output_type": "stream",
     "text": [
      "...................................................................................................................................................................................................................................................................................................................................................................................................................................................................................................................................................................................................................!\n",
      "!\n"
     ]
    }
   ],
   "source": [
    "from sagemaker.tuner import (\n",
    "    IntegerParameter,\n",
    "    CategoricalParameter,\n",
    "    ContinuousParameter,\n",
    "    HyperparameterTuner,\n",
    ")\n",
    "from sagemaker import image_uris\n",
    "\n",
    "container = image_uris.retrieve(region=region, framework=\"forecasting-deepar\")\n",
    "\n",
    "deepar = sagemaker.estimator.Estimator(\n",
    "    container,\n",
    "    role,\n",
    "    instance_count=1, # increase if training time is a factor | keep to 1 if cost is a factor\n",
    "    instance_type=\"ml.m4.xlarge\",\n",
    "    enable_sagemaker_metrics = True,\n",
    "    use_spot_instances=True,  # use spot instances (this is a cheaper alternative)\n",
    "    max_run=3600,  # max training time in seconds\n",
    "    max_wait=3600,  # seconds to wait for spot instance\n",
    "    output_path=\"s3://{}/{}\".format(bucket, s3_output_path),\n",
    "    sagemaker_session=session,\n",
    ")\n",
    "\n",
    "freq = \"min\"\n",
    "context_length = 5\n",
    "\n",
    "deepar.set_hyperparameters(time_freq=freq, context_length=str(context_length), prediction_length=str(prediction_length))\n",
    "\n",
    "hyperparameter_ranges = {\n",
    "    \"mini_batch_size\": IntegerParameter(300, 400),\n",
    "    \"epochs\": IntegerParameter(350, 400),\n",
    "    \"num_cells\": IntegerParameter(40, 80),\n",
    "    \"likelihood\": CategoricalParameter([\"gaussian\", \"student-T\"]),\n",
    "    \"learning_rate\": ContinuousParameter(0.0001, 0.001),\n",
    "}\n",
    "\n",
    "##model object ->\n",
    "##prediction -> date data -> target  -> RMSE value trained model\n",
    "##train 10 days , future 15 mins , context ->RMSE value trained model\n",
    "\n",
    "objective_metric_name = \"test:RMSE\"  #train:loss\n",
    "#metric_definitions = [{'Name': 'test:RMSE', 'Regex': 'loss(\\S+)'}]\n",
    "\n",
    "tuner = HyperparameterTuner(\n",
    "    deepar,\n",
    "    objective_metric_name,\n",
    "    hyperparameter_ranges,\n",
    "  #  metric_definitions,\n",
    "    max_jobs=2,\n",
    "    strategy=\"Bayesian\",\n",
    "    objective_type=\"Minimize\",\n",
    "    max_parallel_jobs=10,\n",
    "    early_stopping_type=\"Off\",\n",
    ")\n",
    "\n",
    "s3_input_train = sagemaker.inputs.TrainingInput(\n",
    "    s3_data=\"s3://{}/{}/train/\".format(bucket, prefix), content_type=\"json\"\n",
    ")\n",
    "s3_input_test = sagemaker.inputs.TrainingInput(\n",
    "    s3_data=\"s3://{}/{}/test/\".format(bucket, prefix), content_type=\"json\"\n",
    ")\n",
    "\n",
    "tuner.fit({\"train\": s3_input_train, \"test\": s3_input_test}, include_cls_metadata=False)\n",
    "tuner.wait()\n",
    "\n"
   ]
  },
  {
   "cell_type": "markdown",
   "id": "47c7071a",
   "metadata": {},
   "source": [
    "# Host Amazon SageMaker Model"
   ]
  },
  {
   "cell_type": "code",
   "execution_count": 51,
   "id": "ff7a545c",
   "metadata": {},
   "outputs": [],
   "source": [
    "from sagemaker.serializers import IdentitySerializer\n",
    "from sagemaker.deserializers import JSONDeserializer"
   ]
  },
  {
   "cell_type": "code",
   "execution_count": 52,
   "id": "7ceb6312",
   "metadata": {},
   "outputs": [
    {
     "data": {
      "text/plain": [
       "'forecasting-deepar-221108-0952-001-32c0b2c6'"
      ]
     },
     "execution_count": 52,
     "metadata": {},
     "output_type": "execute_result"
    }
   ],
   "source": [
    "best_tuning_job_name = tuner.best_training_job()\n",
    "best_tuning_job_name"
   ]
  },
  {
   "cell_type": "code",
   "execution_count": 53,
   "id": "489465d4",
   "metadata": {},
   "outputs": [
    {
     "name": "stdout",
     "output_type": "stream",
     "text": [
      "\n",
      "2022-11-08 10:38:54 Starting - Preparing the instances for training\n",
      "2022-11-08 10:38:54 Downloading - Downloading input data\n",
      "2022-11-08 10:38:54 Training - Training image download completed. Training in progress.\n",
      "2022-11-08 10:38:54 Uploading - Uploading generated training model\n",
      "2022-11-08 10:38:54 Completed - Training job completed\n",
      "--------!"
     ]
    }
   ],
   "source": [
    "##create serverless endpoint since resource maxed out model / endpoint\n",
    "\n",
    "endpoint = tuner.deploy(\n",
    "    initial_instance_count=1,\n",
    "    endpoint_name=best_tuning_job_name,\n",
    "    instance_type=\"ml.t2.medium\",\n",
    "    serializer=IdentitySerializer(content_type=\"application/json\"),\n",
    "    deserializer=JSONDeserializer(),\n",
    "    wait=True,\n",
    ")\n",
    "\n",
    "#get endpoint\n",
    "# sm_boto3 = boto3.client(\"sagemaker\")\n",
    "# model_name = best_tuning_job_name  # model defined above\n",
    "# initial_instance_count = 1\n",
    "# instance_type = \"ml.t2.medium\"\n",
    "\n",
    "# variant_name = \"AMeaningfulProdVarName\"  # ^[a-zA-Z0-9](-*[a-zA-Z0-9]){0,62}\n",
    "\n",
    "# production_variants = [\n",
    "#     {\n",
    "#         \"VariantName\": variant_name,\n",
    "#         \"ModelName\": model_name,\n",
    "#         \"InitialInstanceCount\": initial_instance_count,\n",
    "#         \"InstanceType\": instance_type,\n",
    "#     }\n",
    "# ]\n",
    "\n",
    "# endpoint_config_name = \"ExampleServeConfig\"  # ^[a-zA-Z0-9](-*[a-zA-Z0-9]){0,62}\n",
    "\n",
    "# endpoint_config = {\n",
    "#     \"EndpointConfigName\": endpoint_config_name,\n",
    "#     \"ProductionVariants\": production_variants,\n",
    "# }\n",
    "\n",
    "# ep_conf_res = sm_boto3.create_endpoint_config(**endpoint_config)\n"
   ]
  },
  {
   "cell_type": "markdown",
   "id": "5b14cee4",
   "metadata": {},
   "source": [
    "Deploy the best performing model for inference"
   ]
  },
  {
   "cell_type": "markdown",
   "id": "cc2e3df5",
   "metadata": {},
   "source": [
    "# Evaluate the Model"
   ]
  },
  {
   "cell_type": "code",
   "execution_count": 141,
   "id": "f1796993",
   "metadata": {},
   "outputs": [],
   "source": [
    "class DeepARPredictor(sagemaker.predictor.Predictor):\n",
    "    def __init__(self, *args, **kwargs):\n",
    "        super().__init__(\n",
    "            *args, serializer=IdentitySerializer(content_type=\"application/json\"), **kwargs\n",
    "        )\n",
    "\n",
    "    def set_prediction_parameters(self, freq, prediction_length):\n",
    "        \"\"\"Set the time frequency and prediction length parameters. This method **must** be\n",
    "        called before being able to use `predict`.\n",
    "\n",
    "        Parameters:\n",
    "        freq -- string indicating the time frequency\n",
    "        prediction_length -- integer, number of predicted time points\n",
    "\n",
    "        Return value: none.\n",
    "        \"\"\"\n",
    "        self.freq = freq\n",
    "        self.prediction_length = prediction_length\n",
    "\n",
    "    def predict(\n",
    "        self, ts, cat=None, encoding=\"utf-8\", num_samples=100, quantiles=[\"0.1\", \"0.5\", \"0.9\"]\n",
    "    ):\n",
    "        \"\"\"Requests the prediction of for the time series listed in `ts`, each with the\n",
    "        (optional) corresponding category listed in `cat`.\n",
    "\n",
    "        Parameters:\n",
    "        ts -- list of `pandas.Series` objects, the time series to predict\n",
    "        cat -- list of integers (default: None)\n",
    "        encoding -- string, encoding to use for the request (default: 'utf-8')\n",
    "        num_samples -- integer, number of samples to compute at prediction time (default: 100)\n",
    "        quantiles -- list of strings specifying the quantiles to compute (default: ['0.1', '0.5', '0.9'])\n",
    "\n",
    "        Return value: list of `pandas.DataFrame` objects, each containing the predictions\n",
    "        \"\"\"\n",
    "        prediction_times = [x.index[-1] + x.index.freq for x in ts]\n",
    "        #prediction_times = [x.index[-1]  for x in ts]\n",
    "        #prediction_times = ts\n",
    "        req = self.__encode_request(ts, cat, encoding, num_samples, quantiles)\n",
    "        res = super(DeepARPredictor, self).predict(req)\n",
    "        return self.__decode_response(res, prediction_times, encoding)\n",
    "\n",
    "    def __encode_request(self, ts, cat, encoding, num_samples, quantiles):\n",
    "        #instances = [series_to_obj(ts[k], cat[k] if cat else None) for k in range(len(ts))]\n",
    "        instances = [series_to_obj(ts[k]) for k in range(len(ts))]\n",
    "        configuration = {\n",
    "            \"num_samples\": num_samples,\n",
    "            \"output_types\": [\"quantiles\"],\n",
    "            \"quantiles\": quantiles,\n",
    "        }\n",
    "        http_request_data = {\"instances\": instances, \"configuration\": configuration}\n",
    "        return json.dumps(http_request_data).encode(encoding)\n",
    "\n",
    "    def __decode_response(self, response, prediction_times, encoding):\n",
    "        response_data = json.loads(response.decode(encoding))\n",
    "        list_of_df = []\n",
    "        for k in range(len(prediction_times)):\n",
    "            prediction_index = pd.date_range(\n",
    "                start=prediction_times[k], freq=self.freq, periods=self.prediction_length\n",
    "            )\n",
    "            list_of_df.append(\n",
    "                pd.DataFrame(\n",
    "                    data=response_data[\"predictions\"][k][\"quantiles\"], index=prediction_index\n",
    "                )\n",
    "            )\n",
    "        return list_of_df\n",
    "\n",
    "predictor = DeepARPredictor(endpoint_name=endpoint.endpoint_name, sagemaker_session=session)"
   ]
  },
  {
   "cell_type": "code",
   "execution_count": 55,
   "id": "37f11e4c",
   "metadata": {},
   "outputs": [],
   "source": [
    "def add_freq(idx, freq=None):\n",
    "    \"\"\"Add a frequency attribute to idx, through inference or directly.\n",
    "\n",
    "    Returns a copy.  If `freq` is None, it is inferred.\n",
    "    \"\"\"\n",
    "\n",
    "    idx = idx.copy()\n",
    "    if freq is None:\n",
    "        if idx.freq is None:\n",
    "            freq = pd.infer_freq(idx)\n",
    "        else:\n",
    "            return idx\n",
    "    idx.freq = pd.tseries.frequencies.to_offset(freq)\n",
    "    if idx.freq is None:\n",
    "        raise AttributeError('no discernible frequency found to `idx`.  Specify'\n",
    "                             ' a frequency string with `freq`.')\n",
    "    return idx"
   ]
  },
  {
   "cell_type": "code",
   "execution_count": 136,
   "id": "55a79a3c",
   "metadata": {
    "scrolled": true
   },
   "outputs": [
    {
     "data": {
      "text/plain": [
       "1"
      ]
     },
     "execution_count": 136,
     "metadata": {},
     "output_type": "execute_result"
    }
   ],
   "source": [
    "ts = add_freq(time_series_test[0].index)\n",
    "time_series_test[0].index = ts\n",
    "len(time_series_test)"
   ]
  },
  {
   "cell_type": "code",
   "execution_count": 148,
   "id": "461160ad",
   "metadata": {},
   "outputs": [
    {
     "data": {
      "text/plain": [
       "1"
      ]
     },
     "execution_count": 148,
     "metadata": {},
     "output_type": "execute_result"
    }
   ],
   "source": [
    "ts = add_freq(time_series_training[0].index)\n",
    "time_series_training[0].index = ts\n",
    "len(time_series_training)"
   ]
  },
  {
   "cell_type": "code",
   "execution_count": 150,
   "id": "d067ef73",
   "metadata": {},
   "outputs": [
    {
     "data": {
      "image/png": "[encoded data removed]",
      "text/plain": [
       "<Figure size 900x450 with 1 Axes>"
      ]
     },
     "metadata": {},
     "output_type": "display_data"
    }
   ],
   "source": [
    "predictor.set_prediction_parameters(freq, prediction_length)\n",
    "\n",
    "list_of_df = predictor.predict(time_series_test)\n",
    "actual_data = time_series_test\n",
    "\n",
    "for k in range(len(list_of_df)):\n",
    "    plt.figure(figsize=(12, 6), dpi=75, facecolor=\"w\")\n",
    "    plt.ylabel(\"Close\")\n",
    "    plt.xlabel(\"Timestamp\")\n",
    "    plt.title(\"Bitcoin Close Prediction\")\n",
    "    actual_data[k][-prediction_length - context_length :].plot(label=\"target\")\n",
    "    p10 = list_of_df[k][\"0.1\"]\n",
    "    p90 = list_of_df[k][\"0.9\"]\n",
    "    plt.fill_between(p10.index, p10, p90, color=\"y\", alpha=0.5, label=\"80% confidence interval\")\n",
    "    list_of_df[k][\"0.5\"].plot(label=\"prediction median\")\n",
    "    plt.legend()\n",
    "    plt.show()"
   ]
  },
  {
   "cell_type": "code",
   "execution_count": 143,
   "id": "b4f66bfe",
   "metadata": {},
   "outputs": [
    {
     "data": {
      "text/plain": [
       "[                              0.1           0.5           0.9\n",
       " 2021-01-03 09:41:00  33808.863281  34219.972656  34556.464844\n",
       " 2021-01-03 09:42:00  33793.925781  34109.476562  34352.792969\n",
       " 2021-01-03 09:43:00  33783.757812  34086.171875  34390.089844\n",
       " 2021-01-03 09:44:00  33673.281250  34038.945312  34357.562500\n",
       " 2021-01-03 09:45:00  33695.898438  33965.207031  34149.019531\n",
       " 2021-01-03 09:46:00  33717.820312  33953.019531  34223.105469\n",
       " 2021-01-03 09:47:00  33751.566406  33952.898438  34135.445312\n",
       " 2021-01-03 09:48:00  33745.042969  33968.621094  34181.289062\n",
       " 2021-01-03 09:49:00  33720.660156  33962.156250  34208.500000\n",
       " 2021-01-03 09:50:00  33711.546875  33971.257812  34217.765625\n",
       " 2021-01-03 09:51:00  33720.441406  33971.027344  34228.707031\n",
       " 2021-01-03 09:52:00  33679.921875  33956.417969  34213.195312\n",
       " 2021-01-03 09:53:00  33757.468750  33997.472656  34242.351562\n",
       " 2021-01-03 09:54:00  33704.757812  33985.625000  34235.226562\n",
       " 2021-01-03 09:55:00  33876.976562  34013.730469  34228.476562\n",
       " 2021-01-03 09:56:00  33765.261719  34000.441406  34263.320312\n",
       " 2021-01-03 09:57:00  33763.472656  33984.812500  34178.492188\n",
       " 2021-01-03 09:58:00  33792.347656  34041.035156  34256.832031\n",
       " 2021-01-03 09:59:00  33813.937500  34019.554688  34259.304688\n",
       " 2021-01-03 10:00:00  33488.183594  33708.167969  33966.875000\n",
       " 2021-01-03 10:01:00  33439.199219  33677.980469  33941.007812\n",
       " 2021-01-03 10:02:00  33487.945312  33686.531250  33927.019531\n",
       " 2021-01-03 10:03:00  33498.140625  33704.398438  33967.660156\n",
       " 2021-01-03 10:04:00  33527.667969  33723.464844  33938.500000\n",
       " 2021-01-03 10:05:00  33510.070312  33747.917969  33968.972656\n",
       " 2021-01-03 10:06:00  33556.417969  33741.113281  33894.886719\n",
       " 2021-01-03 10:07:00  33567.117188  33761.039062  33989.300781\n",
       " 2021-01-03 10:08:00  33555.910156  33815.273438  34059.230469\n",
       " 2021-01-03 10:09:00  34989.101562  35191.292969  35374.039062\n",
       " 2021-01-03 10:10:00  34077.277344  34238.371094  34462.449219]"
      ]
     },
     "execution_count": 143,
     "metadata": {},
     "output_type": "execute_result"
    }
   ],
   "source": [
    "list_of_df"
   ]
  },
  {
   "cell_type": "markdown",
   "id": "d77ddab7",
   "metadata": {},
   "source": [
    "# Clean Up"
   ]
  },
  {
   "cell_type": "markdown",
   "id": "607382e9",
   "metadata": {},
   "source": [
    "To avoid additional costs we want to remove the model and endpoints instances. Furthermore, remember to close and halt this Jupyter Notebook:\n",
    "- Navigate to file -> 'close and halt'\n",
    "- Navigate to SageMaker -> notebook instances -> click on notebook -> actions -> stop"
   ]
  },
  {
   "cell_type": "code",
   "execution_count": null,
   "id": "8edf8347",
   "metadata": {},
   "outputs": [],
   "source": [
    "predictor.delete_model()\n",
    "predictor.delete_endpoint()"
   ]
  },
  {
   "cell_type": "code",
   "execution_count": null,
   "id": "3681f52a",
   "metadata": {},
   "outputs": [],
   "source": []
  },
  {
   "cell_type": "code",
   "execution_count": null,
   "id": "b2e7c0d3",
   "metadata": {},
   "outputs": [],
   "source": []
  }
 ],
 "metadata": {
  "kernelspec": {
   "display_name": "conda_python3",
   "language": "python",
   "name": "conda_python3"
  },
  "language_info": {
   "codemirror_mode": {
    "name": "ipython",
    "version": 3
   },
   "file_extension": ".py",
   "mimetype": "text/x-python",
   "name": "python",
   "nbconvert_exporter": "python",
   "pygments_lexer": "ipython3",
   "version": "3.8.12"
  }
 },
 "nbformat": 4,
 "nbformat_minor": 5
}
